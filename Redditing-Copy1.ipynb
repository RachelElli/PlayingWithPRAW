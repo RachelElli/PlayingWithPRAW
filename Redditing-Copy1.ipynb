{
 "cells": [
  {
   "cell_type": "code",
   "execution_count": null,
   "metadata": {
    "collapsed": false
   },
   "outputs": [],
   "source": [
    "print('Hello World')"
   ]
  },
  {
   "cell_type": "code",
   "execution_count": null,
   "metadata": {
    "collapsed": false
   },
   "outputs": [],
   "source": [
    "# Install a conda package in the current Jupyter kernel\n",
    "import sys\n",
    "!pip install praw"
   ]
  },
  {
   "cell_type": "code",
   "execution_count": null,
   "metadata": {
    "collapsed": true
   },
   "outputs": [],
   "source": [
    "import praw"
   ]
  },
  {
   "cell_type": "code",
   "execution_count": null,
   "metadata": {
    "collapsed": false
   },
   "outputs": [],
   "source": [
    "\n",
    "\n",
    "reddit = praw.Reddit(client_id='client_id here',\n",
    "                     client_secret='client_secret here',\n",
    "                     password='Reddit password here',\n",
    "                     user_agent='I forget where you get/set this',\n",
    "                     username='Your username here')\n",
    "\n",
    "\n",
    "#Uncomment this to get the thread ids for the top 5 posts in subreddit selected at the time you run the code.\n",
    "\n",
    "# subreddit=reddit.subreddit('vegan')\n",
    "\n",
    "# hot_vegan= subreddit.hot(limit=5)\n",
    "\n",
    "\n",
    "\n",
    "# for ii in hot_vegan:\n",
    "# #     This prints the IDs only.  Thread ID. In this case it's an object.\n",
    "# #     print(ii)\n",
    "#     print(ii)\n",
    "#     if not ii.stickied:\n",
    "#         #print(ii.title)\n",
    "#         print('Title: {}, Ups: {}, Downs: {}, Have we visited: {}'.format(ii.title,\n",
    "#                                                                          ii.ups,\n",
    "#                                                                          ii.downs,\n",
    "#                                                                          ii.visited))\n",
    "#         print(ii.url)\n",
    "#         print(ii.author)"
   ]
  },
  {
   "cell_type": "code",
   "execution_count": null,
   "metadata": {
    "collapsed": false
   },
   "outputs": [],
   "source": [
    "import time\n",
    "\n",
    "#This will print some interesting data for some reddit user you want to stalk.\n",
    "\n",
    "# Stalkee=reddit.redditor('Stalkee's username here')\n",
    "# #print(Stalkee)\n",
    "\n",
    "# print(Stalkee.id)\n",
    "\n",
    "\n",
    "# print(Stalkee.comment_karma)\n",
    "\n",
    "# print(Stalkee.link_karma)\n",
    "\n",
    "# print(time.ctime(Stalkee.created_utc))\n",
    "\n",
    "\n",
    "#Here's how you can send messages to reddit users from your code.\n",
    "\n",
    "# reddit.redditor('stalkees username').message('Hello From Scripty!', 'I\\'m the new stalker bot.')\n",
    "\n",
    "\n",
    "# reddit.redditor('other stalkees username').message('Hello From Scripty!', 'I\\'m the new stalker bot.')\n",
    "\n",
    "\n",
    "# StalkeePosts=reddit.redditor('stalkees username').submissions.top('all')\n",
    "# i=0\n",
    "\n",
    "# for submission in reddit.redditor('stalkees username').submissions.hot(limit=1000):\n",
    "#     print(submission.id)\n",
    "#     i=i+1\n",
    "    \n",
    "# print(i)"
   ]
  },
  {
   "cell_type": "code",
   "execution_count": null,
   "metadata": {
    "collapsed": false
   },
   "outputs": [],
   "source": [
    "# Post=reddit.submission(url=\"paste the url of some post you want to get some information for\")\n",
    "\n",
    "# print(time.ctime(Post.created_utc))\n",
    "# print(Post.id)\n",
    "# print(Post.title)\n",
    "# print(Post.author)\n",
    "# print(Post.ups)\n",
    "# print(Post.score)\n",
    "# print(Post.upvote_ratio)\n",
    "# print(Post.num_comments)\n",
    "# print(Post.subreddit)\n",
    "# print(Post.url)\n",
    "# print(Post.is_video)\n",
    "\n",
    "\n",
    "# #Identify file type\n",
    "# ToLink=Post.url\n",
    "\n",
    "# print(ToLink[-4:])\n",
    "\n",
    "\n",
    "print('Doing Nothing')\n",
    "\n"
   ]
  },
  {
   "cell_type": "code",
   "execution_count": null,
   "metadata": {
    "collapsed": false
   },
   "outputs": [],
   "source": [
    "import pandas as pd\n",
    "\n",
    "-\n",
    "\n",
    "#NewTable=pd.DataFrame([Title,Poster,Score,Ratio,Comments,Subreddit,Extension,IsVideo,URL],index=Date,rows=['Title','Poster','Score','Ratio','Comments','Subreddit','Extension','IsVideo','URL'])"
   ]
  },
  {
   "cell_type": "code",
   "execution_count": null,
   "metadata": {
    "collapsed": false
   },
   "outputs": [],
   "source": [
    " df=pd.DataFrame(data=list(DatePosted))\n",
    "\n",
    "\n",
    "df['Title']=pd.Series(Title,index=df.index)\n",
    "df['Poster']=pd.Series(Poster,index=df.index)\n",
    "df['Score']=pd.Series(Score,index=df.index)\n",
    "df['Ratio']=pd.Series(Ratio,index=df.index)\n",
    "df['Comments']=pd.Series(Comments,index=df.index)\n",
    "df['Subreddits']=pd.Series(Subreddits,index=df.index)\n",
    "df['Extension']=pd.Series(Extension,index=df.index)\n",
    "df['IsVideo']=pd.Series(IsVideo,index=df.index)\n",
    "df['URL']=pd.Series(URL,index=df.index)\n",
    "\n",
    "#print(DatePosted)\n",
    "\n",
    "print(df)\n",
    "# print(['Title','Poster','Score','Ratio','Comments','Subreddit','Extension','IsVideo','URL'])\n",
    "\n",
    "# print(len(Title))\n",
    "\n",
    "#data=[[Date],[Title],[Poster],[Score],[Ratio],[Comments],[Subreddits],[Extension],[IsVideo],[URL]]\n",
    "\n",
    "#data=[[Date],[Title],[Poster],[Score],[Ratio],[Comments],[Subreddits],[Extension],[IsVideo],[URL]]\n",
    "#data=[[Title],[Poster],[Score],[Ratio],[Comments],[Subreddit],[Extension],[IsVideo],[URL]]\n",
    "\n",
    "\n",
    "#NewTable=pd.DataFrame(data)\n",
    "#NewTable=pd.DataFrame(data,index=Date,columns=['Title','Poster','Score','Ratio','Comments','Subreddit','Extension','IsVideo','URL'])\n",
    "\n",
    "      \n",
    "      \n",
    "#NewTable=pd.DataFrame([Title,Poster,Score,Ratio,Comments,Subreddit,Extension,IsVideo,URL],index=Date,columns=['Title','Poster','Score','Ratio','Comments','Subreddit','Extension','IsVideo','URL'])\n",
    "#NewTable=pd.DataFrame([numpy.transpose(Title),numpy.transpose(Poster),numpy.transpose(Score),numpy.transpose(Ratio),numpy.transpose(Comments),numpy.transpose(Subreddit),numpy.transpose(Extension),numpy.transpose(IsVideo),numpy.transpose(URL)],index=numpy.transpose(Date),columns=['Title','Poster','Score','Ratio','Comments','Subreddit','Extension','IsVideo','URL'])\n",
    "# NewTable=pd.DataFrame([Title Poster Score Ratio Comments Subreddit Extension IsVideo URL])\n",
    "\n",
    "# print(NewTable)\n",
    "\n",
    "# NewTable.to_csv('out.csv')\n"
   ]
  },
  {
   "cell_type": "code",
   "execution_count": null,
   "metadata": {
    "collapsed": false
   },
   "outputs": [],
   "source": [
    "Test=pd.DataFrame(NewTable).T\n",
    "\n",
    "print(Test)\n",
    "\n",
    "Test.to_csv('TransposeTest.csv')\n",
    "\n",
    "#Get unique subreddits by converting list to set.\n",
    "\n",
    "print(type([Subreddits]))\n",
    "print(len(Subreddits))\n",
    "\n",
    "# for ii in range(len(Subs)):\n",
    "#     Subs[ii] = str(Subs[ii])\n",
    "\n",
    "print([Subreddits])\n",
    "print(Poster)\n",
    "\n",
    "UniqueSubreddits=set(Subreddits)\n",
    "#print(UniqueSubreddits)\n",
    "\n",
    "\n",
    "#SubscriberCounts=reddit.subreddit([UniqueSubreddits]).subscribers\n",
    "\n",
    "#print(SubscriberCounts)\n"
   ]
  },
  {
   "cell_type": "code",
   "execution_count": null,
   "metadata": {
    "collapsed": false
   },
   "outputs": [],
   "source": [
    "Subs=pd.DataFrame(Subreddits)\n",
    "\n",
    "print(Subs)\n",
    "\n",
    "print(Subs.drop_duplicates(inplace=False))\n",
    "\n",
    "UniqueSubreddits=Subs.drop_duplicates(inplace=False)\n",
    "\n",
    "\n",
    "\n",
    "#UniqueSubreddits=set(Subs[1])\n",
    "#print(UniqueSubreddits)\n",
    "\n",
    "\n",
    "print(UniqueSubreddits.values.tolist())\n",
    "\n",
    "test=UniqueSubreddits.values.tolist()\n",
    "print(len(test))\n",
    "SubscriberCounts=[]\n",
    "\n",
    "\n",
    "for jj in range(len(test)):\n",
    "    try:\n",
    "        print(test[jj])\n",
    "        temp=str(test[jj])\n",
    "        print(temp[25:-3])\n",
    "        test[jj]=temp[25:-3]\n",
    "        SubscriberCounts.append(reddit.subreddit(test[jj]).subscribers)\n",
    "    except:\n",
    "        SubscriberCounts.append(-1)\n",
    "\n",
    "#SubscriberCounts=reddit.subreddit().subscribers\n",
    "\n",
    "print(SubscriberCounts)\n",
    "\n",
    "PopularityTable=pd.DataFrame(test,SubscriberCounts)\n",
    "\n",
    "PopularityTable.to_csv('SubPopularity.csv')\n"
   ]
  },
  {
   "cell_type": "code",
   "execution_count": null,
   "metadata": {
    "collapsed": true
   },
   "outputs": [],
   "source": [
    "df.to_csv('ScriptedPosts.csv')"
   ]
  },
  {
   "cell_type": "code",
   "execution_count": null,
   "metadata": {
    "collapsed": false
   },
   "outputs": [],
   "source": [
    "import numpy as np\n",
    "\n",
    "Ups=np.array(Score)*np.array(Ratio)\n",
    "print(Ups)"
   ]
  },
  {
   "cell_type": "code",
   "execution_count": null,
   "metadata": {
    "collapsed": true
   },
   "outputs": [],
   "source": []
  }
 ],
 "metadata": {
  "anaconda-cloud": {},
  "kernelspec": {
   "display_name": "Python [Root]",
   "language": "python",
   "name": "Python [Root]"
  },
  "language_info": {
   "codemirror_mode": {
    "name": "ipython",
    "version": 3
   },
   "file_extension": ".py",
   "mimetype": "text/x-python",
   "name": "python",
   "nbconvert_exporter": "python",
   "pygments_lexer": "ipython3",
   "version": "3.5.2"
  }
 },
 "nbformat": 4,
 "nbformat_minor": 0
}
