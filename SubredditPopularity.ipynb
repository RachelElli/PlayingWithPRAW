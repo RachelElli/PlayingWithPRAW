{
 "cells": [
  {
   "cell_type": "code",
   "execution_count": null,
   "metadata": {
    "collapsed": true
   },
   "outputs": [],
   "source": [
    "Subs=pd.DataFrame(Subreddits)\n",
    "\n",
    "print(Subs)\n",
    "\n",
    "print(Subs.drop_duplicates(inplace=False))\n",
    "\n",
    "UniqueSubreddits=Subs.drop_duplicates(inplace=False)\n",
    "\n",
    "\n",
    "\n",
    "#UniqueSubreddits=set(Subs[1])\n",
    "#print(UniqueSubreddits)\n",
    "\n",
    "\n",
    "print(UniqueSubreddits.values.tolist())\n",
    "\n",
    "test=UniqueSubreddits.values.tolist()\n",
    "print(len(test))\n",
    "SubscriberCounts=[]\n",
    "\n",
    "\n",
    "for jj in range(len(test)):\n",
    "    try:\n",
    "        print(test[jj])\n",
    "        temp=str(test[jj])\n",
    "        print(temp[25:-3])\n",
    "        test[jj]=temp[25:-3]\n",
    "        SubscriberCounts.append(reddit.subreddit(test[jj]).subscribers)\n",
    "    except:\n",
    "        SubscriberCounts.append(-1)\n",
    "\n",
    "#SubscriberCounts=reddit.subreddit().subscribers\n",
    "\n",
    "print(SubscriberCounts)\n",
    "\n",
    "PopularityTable=pd.DataFrame(test,SubscriberCounts)\n",
    "\n",
    "PopularityTable.to_csv('SubPopularity.csv')\n"
   ]
  }
 ],
 "metadata": {
  "kernelspec": {
   "display_name": "Python [Root]",
   "language": "python",
   "name": "Python [Root]"
  },
  "language_info": {
   "codemirror_mode": {
    "name": "ipython",
    "version": 3
   },
   "file_extension": ".py",
   "mimetype": "text/x-python",
   "name": "python",
   "nbconvert_exporter": "python",
   "pygments_lexer": "ipython3",
   "version": "3.5.2"
  }
 },
 "nbformat": 4,
 "nbformat_minor": 0
}
